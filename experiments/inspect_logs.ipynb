{
 "cells": [
  {
   "cell_type": "code",
   "execution_count": 5,
   "id": "c6704cbb",
   "metadata": {},
   "outputs": [],
   "source": [
    "import numpy as np\n",
    "import pandas as pd\n",
    "\n",
    "import matplotlib.pyplot as plt\n",
    "%matplotlib inline\n",
    "\n",
    "import pathlib\n",
    "\n",
    "import re"
   ]
  },
  {
   "cell_type": "code",
   "execution_count": 6,
   "id": "2b187925",
   "metadata": {},
   "outputs": [],
   "source": [
    "OUTPUT_PATH = pathlib.Path('../test')\n",
    "assert OUTPUT_PATH.is_dir()"
   ]
  },
  {
   "cell_type": "markdown",
   "id": "1654d523",
   "metadata": {},
   "source": [
    "2025-07-17 10:58:51,278 | DEBUG | rfi_pipeline.process (blc07_guppi_60055_23754_Arp220_0134.rawspec.0000.h5) (1596800): Done! Took 21.1s"
   ]
  },
  {
   "cell_type": "code",
   "execution_count": 9,
   "id": "394efe60",
   "metadata": {},
   "outputs": [
    {
     "data": {
      "text/plain": [
       "[]"
      ]
     },
     "execution_count": 9,
     "metadata": {},
     "output_type": "execute_result"
    }
   ],
   "source": [
    "file_times = []\n",
    "pattern = r'rfi_pipeline\\.process \\((.+)\\) \\(\\d+\\): Done! Took ([\\d\\.e+]+)s'\n",
    "with open(OUTPUT_PATH / 'logs' / 'all_logs.log', 'r') as file:\n",
    "    for line in file:\n",
    "        m = re.search(pattern, line)\n",
    "        if m:\n",
    "            file_times.append((m.group(1), float(m.group(2))))\n",
    "file_times"
   ]
  },
  {
   "cell_type": "code",
   "execution_count": null,
   "id": "83e892a2",
   "metadata": {},
   "outputs": [
    {
     "name": "stdout",
     "output_type": "stream",
     "text": [
      "Help on class Scanner in module re:\n",
      "\n",
      "class Scanner(builtins.object)\n",
      " |  Scanner(lexicon, flags=0)\n",
      " |\n",
      " |  Methods defined here:\n",
      " |\n",
      " |  __init__(self, lexicon, flags=0)\n",
      " |      Initialize self.  See help(type(self)) for accurate signature.\n",
      " |\n",
      " |  scan(self, string)\n",
      " |\n",
      " |  ----------------------------------------------------------------------\n",
      " |  Data descriptors defined here:\n",
      " |\n",
      " |  __dict__\n",
      " |      dictionary for instance variables\n",
      " |\n",
      " |  __weakref__\n",
      " |      list of weak references to the object\n",
      "\n"
     ]
    }
   ],
   "source": []
  }
 ],
 "metadata": {
  "kernelspec": {
   "display_name": "pickles",
   "language": "python",
   "name": "python3"
  },
  "language_info": {
   "codemirror_mode": {
    "name": "ipython",
    "version": 3
   },
   "file_extension": ".py",
   "mimetype": "text/x-python",
   "name": "python",
   "nbconvert_exporter": "python",
   "pygments_lexer": "ipython3",
   "version": "3.13.5"
  }
 },
 "nbformat": 4,
 "nbformat_minor": 5
}
