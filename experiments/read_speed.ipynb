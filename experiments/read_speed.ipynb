{
 "cells": [
  {
   "cell_type": "code",
   "execution_count": 1,
   "id": "7ee1309b",
   "metadata": {},
   "outputs": [],
   "source": [
    "import numpy as np\n",
    "\n",
    "import hdf5plugin\n",
    "import h5py\n",
    "\n",
    "from time import perf_counter\n",
    "\n",
    "import matplotlib.pyplot as plt\n",
    "%matplotlib inline"
   ]
  },
  {
   "cell_type": "code",
   "execution_count": 2,
   "id": "d25a7da0",
   "metadata": {},
   "outputs": [],
   "source": [
    "f = h5py.File('/home/andres/breakthrough-listen/data/blc40_guppi_59358_40991_HIP3740_0031.rawspec.0000.h5')\n",
    "data : h5py.Dataset = f['data'] #type: ignore"
   ]
  },
  {
   "cell_type": "code",
   "execution_count": 3,
   "id": "9c6272d9",
   "metadata": {},
   "outputs": [],
   "source": [
    "block_indices = np.random.choice(data.shape[2] // 1024, 1_000, replace = False)\n",
    "block_indices.sort()\n",
    "array_indices = []\n",
    "for block_index in block_indices:\n",
    "    start = block_index * 1024\n",
    "    end = (block_index + 1) * 1024\n",
    "    array_indices += range(start, end)"
   ]
  },
  {
   "cell_type": "markdown",
   "id": "26207510",
   "metadata": {},
   "source": [
    "load blocks individually"
   ]
  },
  {
   "cell_type": "code",
   "execution_count": 8,
   "id": "ba47fb3d",
   "metadata": {},
   "outputs": [],
   "source": [
    "bit_by_bit_stds = []\n",
    "for block_index in block_indices:\n",
    "    start = block_index * 1024\n",
    "    end = (block_index + 1) * 1024\n",
    "    block = data[7, 0, start:end]\n",
    "    bit_by_bit_stds.append(np.std(block))"
   ]
  },
  {
   "cell_type": "markdown",
   "id": "7f4dec62",
   "metadata": {},
   "source": [
    "load all blocks"
   ]
  },
  {
   "cell_type": "code",
   "execution_count": 9,
   "id": "88ae2078",
   "metadata": {},
   "outputs": [],
   "source": [
    "all_at_once_stds = []\n",
    "blocks = data[7, 0, array_indices]\n",
    "for i in range(0, blocks.shape[0], 1024):\n",
    "    block = blocks[(i):(i+1024)]\n",
    "    all_at_once_stds.append(np.std(block))"
   ]
  },
  {
   "cell_type": "code",
   "execution_count": 10,
   "id": "5d04dddf",
   "metadata": {},
   "outputs": [
    {
     "data": {
      "text/plain": [
       "True"
      ]
     },
     "execution_count": 10,
     "metadata": {},
     "output_type": "execute_result"
    }
   ],
   "source": [
    "np.allclose(bit_by_bit_stds, all_at_once_stds)"
   ]
  }
 ],
 "metadata": {
  "kernelspec": {
   "display_name": "pickles",
   "language": "python",
   "name": "python3"
  },
  "language_info": {
   "codemirror_mode": {
    "name": "ipython",
    "version": 3
   },
   "file_extension": ".py",
   "mimetype": "text/x-python",
   "name": "python",
   "nbconvert_exporter": "python",
   "pygments_lexer": "ipython3",
   "version": "3.13.5"
  }
 },
 "nbformat": 4,
 "nbformat_minor": 5
}
