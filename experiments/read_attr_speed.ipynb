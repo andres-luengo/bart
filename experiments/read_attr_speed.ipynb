{
 "cells": [
  {
   "cell_type": "code",
   "execution_count": 1,
   "id": "a492b3ae",
   "metadata": {},
   "outputs": [],
   "source": [
    "import hdf5plugin\n",
    "import h5py"
   ]
  },
  {
   "cell_type": "code",
   "execution_count": 2,
   "id": "ffce8e79",
   "metadata": {},
   "outputs": [],
   "source": [
    "f = h5py.File('/home/andres/breakthrough-listen/data/blc40_guppi_59358_40991_HIP3740_0031.rawspec.0000.h5')"
   ]
  },
  {
   "cell_type": "code",
   "execution_count": 4,
   "id": "a324d922",
   "metadata": {},
   "outputs": [
    {
     "name": "stdout",
     "output_type": "stream",
     "text": [
      "80.2 μs ± 1.92 μs per loop (mean ± std. dev. of 7 runs, 10,000 loops each)\n",
      "19.1 ns ± 0.0639 ns per loop (mean ± std. dev. of 7 runs, 100,000,000 loops each)\n"
     ]
    }
   ],
   "source": [
    "%timeit f['data'].attrs['fch1']\n",
    "d = {'fch1': 3151.46484}\n",
    "%timeit d['fch1']"
   ]
  }
 ],
 "metadata": {
  "kernelspec": {
   "display_name": "pickles",
   "language": "python",
   "name": "python3"
  },
  "language_info": {
   "codemirror_mode": {
    "name": "ipython",
    "version": 3
   },
   "file_extension": ".py",
   "mimetype": "text/x-python",
   "name": "python",
   "nbconvert_exporter": "python",
   "pygments_lexer": "ipython3",
   "version": "3.13.5"
  }
 },
 "nbformat": 4,
 "nbformat_minor": 5
}
